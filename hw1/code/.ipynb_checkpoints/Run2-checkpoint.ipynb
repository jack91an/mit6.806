{
 "cells": [
  {
   "cell_type": "code",
   "execution_count": null,
   "metadata": {
    "collapsed": true
   },
   "outputs": [],
   "source": [
    "from __future__ import print_function\n",
    "from __future__ import division\n",
    "\n",
    "import numpy as np\n",
    "import languagemodel as lm\n",
    "\n",
    "np.random.seed(1)  # for reproducibility\n",
    "\n",
    "corpus_train = lm.readCorpus(\"data/train.txt\")\n",
    "corpus_dev   = lm.readCorpus(\"data/dev.txt\")\n",
    "corpus_test  = lm.readCorpus(\"data/test.txt\")\n",
    "\n",
    "# build a common index (words to integers), mapping rare words (less than 5 occurences) to index 0\n",
    "# nwords = vocabulary size for the models that only see the indexes\n",
    "\n",
    "w2index,nwords = lm.buildIndex(corpus_train+corpus_dev+corpus_test)\n",
    "\n",
    "# find words that appear in the training set so we can deal with new words separately\n",
    "count_train = np.zeros((nwords,))\n",
    "for snt in corpus_train:\n",
    "    for w in snt:\n",
    "        count_train[w2index[w]] += 1\n",
    "\n",
    "# Bigram model as a baseline\n",
    "alpha = 0.1 # add-alpha smoothing\n",
    "probB           = lm.bigramLM(corpus_train, w2index, nwords,alpha)\n",
    "LLB, N          = 0.0, 0\n",
    "bi              = lm.ngramGen(corpus_dev, w2index, 2)\n",
    "for w in bi:\n",
    "    if (count_train[w[1]]>0): # for now, skip target words not seen in training\n",
    "        LLB += np.log(probB[w[0], w[1]])\n",
    "        N += 1\n",
    "print(\"Bi-gram Dev LL = {0}\".format(LLB / N))\n",
    "\n",
    "# Network model\n",
    "print(\"\\nNetwork model training:\")\n",
    "n        = 3    # Length of n-gram \n",
    "dim      = 10   # Word vector dimension\n",
    "hdim     = 30  # Hidden units\n",
    "neurallm = lm.neuralLM(dim, n, hdim, nwords)  # The network model\n",
    "\n",
    "ngrams = lm.ngramGen(corpus_train,w2index,n)\n",
    "ngrams2 = lm.ngramGen(corpus_dev,w2index,n)\n",
    "\n",
    "lrate = 0.5  # Learning rate\n",
    "for it in xrange(10): # passes through the training data\n",
    "    LL, N  = 0.0, 0 # Average log-likelihood, number of ngrams    \n",
    "    for ng in ngrams:\n",
    "        pr = neurallm.update(ng,lrate)\n",
    "        LL += np.log(pr)\n",
    "        N  += 1\n",
    "    print('Train:\\t{0}\\tLL = {1}'.format(it, LL / N)) \n",
    "\n",
    "    #Dev set\n",
    "    LL, N = 0.0, 0 # Average log-likelihood, number of ngrams\n",
    "    for ng in ngrams2:\n",
    "        if (count_train[ng[-1]]>0): # for now, skip target words not seen in training\n",
    "            pr = neurallm.prob(ng)\n",
    "            LL += np.log(pr)\n",
    "            N  += 1\n",
    "    print('Dev:\\t{0}\\tLL = {1}'.format(it, LL / N)) \n"
   ]
  },
  {
   "cell_type": "code",
   "execution_count": 1,
   "metadata": {
    "collapsed": false
   },
   "outputs": [
    {
     "name": "stdout",
     "output_type": "stream",
     "text": [
      "Bi-gram Dev LL = -4.992084628169756\n"
     ]
    }
   ],
   "source": [
    "from __future__ import print_function\n",
    "from __future__ import division\n",
    "\n",
    "import numpy as np\n",
    "import languagemodel as lm\n",
    "\n",
    "np.random.seed(1)  # for reproducibility\n",
    "\n",
    "corpus_train = lm.readCorpus(\"data/train.txt\")\n",
    "corpus_dev   = lm.readCorpus(\"data/dev.txt\")\n",
    "corpus_test  = lm.readCorpus(\"data/test.txt\")\n",
    "\n",
    "# build a common index (words to integers), mapping rare words (less than 5 occurences) to index 0\n",
    "# nwords = vocabulary size for the models that only see the indexes\n",
    "\n",
    "w2index,nwords = lm.buildIndex(corpus_train+corpus_dev+corpus_test)\n",
    "\n",
    "# find words that appear in the training set so we can deal with new words separately\n",
    "count_train = np.zeros((nwords,))\n",
    "for snt in corpus_train:\n",
    "    for w in snt:\n",
    "        count_train[w2index[w]] += 1\n",
    "\n",
    "# Bigram model as a baseline\n",
    "alpha = 0.1 # add-alpha smoothing\n",
    "probB           = lm.bigramLM(corpus_train, w2index, nwords,alpha)\n",
    "LLB, N          = 0.0, 0\n",
    "bi              = lm.ngramGen(corpus_dev, w2index, 2)\n",
    "for w in bi:\n",
    "    if (count_train[w[1]]>0): # for now, skip target words not seen in training\n",
    "        LLB += np.log(probB[w[0], w[1]])\n",
    "        N += 1\n",
    "print(\"Bi-gram Dev LL = {0}\".format(LLB / N))"
   ]
  },
  {
   "cell_type": "markdown",
   "metadata": {},
   "source": [
    "## 1. Configure baseline bigram model"
   ]
  },
  {
   "cell_type": "code",
   "execution_count": 45,
   "metadata": {
    "collapsed": false
   },
   "outputs": [
    {
     "name": "stdout",
     "output_type": "stream",
     "text": [
      "Bi-gram Dev LL = -4.948425066555479 with alpha 0.005\n",
      "Bi-gram Dev LL = -4.883153686434726 with alpha 0.01\n",
      "Bi-gram Dev LL = -4.864619740209547 with alpha 0.015\n",
      "Bi-gram Dev LL = -4.860978607317725 with alpha 0.02\n",
      "Bi-gram Dev LL = -4.863757939080634 with alpha 0.025\n",
      "Bi-gram Dev LL = -4.869712234971148 with alpha 0.030000000000000002\n",
      "Bi-gram Dev LL = -4.877345106194942 with alpha 0.034999999999999996\n",
      "Bi-gram Dev LL = -4.885883828299522 with alpha 0.04\n",
      "Bi-gram Dev LL = -4.89489816262743 with alpha 0.045\n",
      "Bi-gram Dev LL = -4.904135817380125 with alpha 0.049999999999999996\n",
      "Bi-gram Dev LL = -4.913443507489412 with alpha 0.055\n",
      "Bi-gram Dev LL = -4.922725970490986 with alpha 0.06\n",
      "Bi-gram Dev LL = -4.931923344358705 with alpha 0.065\n",
      "Bi-gram Dev LL = -4.940998056193698 with alpha 0.07\n",
      "Bi-gram Dev LL = -4.949926915954853 with alpha 0.07500000000000001\n",
      "Bi-gram Dev LL = -4.958696190725572 with alpha 0.08\n",
      "Bi-gram Dev LL = -4.96729845155322 with alpha 0.085\n",
      "Bi-gram Dev LL = -4.975730508786532 with alpha 0.09000000000000001\n",
      "Bi-gram Dev LL = -4.983992034390634 with alpha 0.095\n",
      "Bi-gram Dev LL = -4.992084628169756 with alpha 0.1\n"
     ]
    }
   ],
   "source": [
    "llh_bi_list = []\n",
    "for alphax in np.linspace(0.005, 0.1, 20):\n",
    "    probB           = lm.bigramLM(corpus_train, w2index, nwords,alphax)\n",
    "    LLB, N          = 0.0, 0\n",
    "    bi              = lm.ngramGen(corpus_dev, w2index, 2)\n",
    "    for w in bi:\n",
    "        if (count_train[w[1]]>0): # for now, skip target words not seen in training\n",
    "            LLB += np.log(probB[w[0], w[1]])\n",
    "            N += 1\n",
    "    print(\"Bi-gram Dev LL = {0} with alpha {1}\".format(LLB / N, alphax))\n",
    "    llh_bi_list.append(LLB / N)"
   ]
  },
  {
   "cell_type": "code",
   "execution_count": 50,
   "metadata": {
    "collapsed": false
   },
   "outputs": [
    {
     "data": {
      "text/plain": [
       "<matplotlib.text.Text at 0x10a0e4390>"
      ]
     },
     "execution_count": 50,
     "metadata": {},
     "output_type": "execute_result"
    },
    {
     "data": {
      "image/png": "[encoded data removed]",
      "text/plain": [
       "<matplotlib.figure.Figure at 0x10a6266d8>"
      ]
     },
     "metadata": {},
     "output_type": "display_data"
    }
   ],
   "source": [
    "import matplotlib.pyplot as plt\n",
    "%matplotlib inline\n",
    "\n",
    "plt.plot(np.linspace(0.005, 0.1, 20), llh_bi_list)\n",
    "plt.xlabel(\"alpha\")\n",
    "plt.title(\"average log likelihood of development corpus\")"
   ]
  },
  {
   "cell_type": "code",
   "execution_count": 52,
   "metadata": {
    "collapsed": false
   },
   "outputs": [
    {
     "name": "stdout",
     "output_type": "stream",
     "text": [
      "Bi-gram Test LL = -4.8457415193597155 with alpha 0.02\n"
     ]
    }
   ],
   "source": [
    "bi_test = lm.ngramGen(corpus_test, w2index, 2)\n",
    "alpha = 0.02\n",
    "probB           = lm.bigramLM(corpus_train, w2index, nwords,alpha)\n",
    "LLB, N          = 0.0, 0\n",
    "\n",
    "for w in bi_test:\n",
    "    if (count_train[w[1]]>0): # for now, skip target words not seen in training\n",
    "        LLB += np.log(probB[w[0], w[1]])\n",
    "        N += 1\n",
    "print(\"Bi-gram Test LL = {0} with alpha {1}\".format(LLB / N, alpha))"
   ]
  },
  {
   "cell_type": "code",
   "execution_count": null,
   "metadata": {
    "collapsed": true
   },
   "outputs": [],
   "source": []
  },
  {
   "cell_type": "markdown",
   "metadata": {},
   "source": [
    "## 2. Neural Network"
   ]
  },
  {
   "cell_type": "code",
   "execution_count": 63,
   "metadata": {
    "collapsed": false
   },
   "outputs": [
    {
     "name": "stdout",
     "output_type": "stream",
     "text": [
      "n=2, dim=5, hdim=10, dev llh=-4.904785539558707\n",
      "n=2, dim=5, hdim=30, dev llh=-4.843481341786308\n",
      "n=2, dim=5, hdim=50, dev llh=-4.852710258312751\n",
      "n=2, dim=10, hdim=10, dev llh=-4.890904005127846\n",
      "n=2, dim=10, hdim=30, dev llh=-4.794984424580786\n",
      "n=2, dim=10, hdim=50, dev llh=-4.791471388025544\n",
      "n=2, dim=20, hdim=10, dev llh=-4.89460135846894\n",
      "n=2, dim=20, hdim=30, dev llh=-4.78056648744739\n",
      "n=2, dim=20, hdim=50, dev llh=-4.748481825794477\n",
      "n=3, dim=5, hdim=10, dev llh=-4.928681366597829\n",
      "n=3, dim=5, hdim=30, dev llh=-4.7964473688033475\n",
      "n=3, dim=5, hdim=50, dev llh=-4.801392721426568\n",
      "n=3, dim=10, hdim=10, dev llh=-4.856130935224388\n",
      "n=3, dim=10, hdim=30, dev llh=-4.7607189154156435\n",
      "n=3, dim=10, hdim=50, dev llh=-4.7761424349909625\n",
      "n=3, dim=20, hdim=10, dev llh=-4.861990937226091\n",
      "n=3, dim=20, hdim=30, dev llh=-4.755165327400062\n",
      "n=3, dim=20, hdim=50, dev llh=-4.735656115163282\n",
      "n=4, dim=5, hdim=10, dev llh=-4.90576103197\n",
      "n=4, dim=5, hdim=30, dev llh=-4.84448892606861\n",
      "n=4, dim=5, hdim=50, dev llh=-4.817928180287612\n",
      "n=4, dim=10, hdim=10, dev llh=-4.922317775332129\n",
      "n=4, dim=10, hdim=30, dev llh=-4.791019341413742\n",
      "n=4, dim=10, hdim=50, dev llh=-4.781944539915543\n",
      "n=4, dim=20, hdim=10, dev llh=-4.8960483944329445\n",
      "n=4, dim=20, hdim=30, dev llh=-4.798330170885385\n",
      "n=4, dim=20, hdim=50, dev llh=-4.7634669169472215\n",
      "n=5, dim=5, hdim=10, dev llh=-4.991303710743656\n",
      "n=5, dim=5, hdim=30, dev llh=-4.858464873102248\n",
      "n=5, dim=5, hdim=50, dev llh=-4.805399297770563\n",
      "n=5, dim=10, hdim=10, dev llh=-4.8981129917620745\n",
      "n=5, dim=10, hdim=30, dev llh=-4.821929047244881\n",
      "n=5, dim=10, hdim=50, dev llh=-4.77881321472532\n",
      "n=5, dim=20, hdim=10, dev llh=-4.916921096021701\n",
      "n=5, dim=20, hdim=30, dev llh=-4.814204064169429\n",
      "n=5, dim=20, hdim=50, dev llh=-4.794959422042593\n"
     ]
    }
   ],
   "source": [
    "neural_result1 = []\n",
    "\n",
    "iter_num = 2\n",
    "lrate = 0.5  # Learning rate\n",
    "for n in [2,3,4,5]:\n",
    "    ngrams = lm.ngramGen(corpus_train,w2index,n)\n",
    "    ngrams2 = lm.ngramGen(corpus_dev,w2index,n)\n",
    "    for dim in [5, 10, 20]:\n",
    "        for hdim in [10, 30, 50]:\n",
    "            neurallm = lm.neuralLM(dim, n, hdim, nwords)\n",
    "            temp_result = []\n",
    "\n",
    "            for it in range(iter_num): # passes through the training data\n",
    "                for ng in ngrams:\n",
    "                    pr = neurallm.update(ng,lrate)\n",
    "\n",
    "                #Dev set\n",
    "                LL, N = 0.0, 0 # Average log-likelihood, number of ngrams\n",
    "                for ng in ngrams2:\n",
    "                    if (count_train[ng[-1]]>0): # for now, skip target words not seen in training\n",
    "                        pr = neurallm.prob(ng)\n",
    "                        LL += np.log(pr)\n",
    "                        N  += 1\n",
    "                temp_result.append(LL/N)\n",
    "            print('n={0}, dim={1}, hdim={2}, dev llh={3}'.format(n, dim, hdim, np.mean(temp_result)))\n",
    "            neural_result1.append([n, dim, hdim, temp_result])"
   ]
  },
  {
   "cell_type": "code",
   "execution_count": 65,
   "metadata": {
    "collapsed": false
   },
   "outputs": [
    {
     "name": "stdout",
     "output_type": "stream",
     "text": [
      "n=3, dim=50, hdim=40, dev llh=-4.615536150004457\n",
      "n=3, dim=50, hdim=50, dev llh=-4.6432565387426985\n",
      "n=3, dim=50, hdim=60, dev llh=-4.630532437885575\n",
      "n=3, dim=75, hdim=40, dev llh=-4.6397915786224555\n",
      "n=3, dim=75, hdim=50, dev llh=-4.626198648142621\n",
      "n=3, dim=75, hdim=60, dev llh=-4.607094358766884\n",
      "n=3, dim=100, hdim=40, dev llh=-4.623066747344818\n",
      "n=3, dim=100, hdim=50, dev llh=-4.63456676862269\n",
      "n=3, dim=100, hdim=60, dev llh=-4.626712758690609\n"
     ]
    }
   ],
   "source": [
    "neural_result2 = []\n",
    "\n",
    "iter_num = 10\n",
    "lrate = 0.5  # Learning rate\n",
    "for n in [3]:\n",
    "    ngrams = lm.ngramGen(corpus_train,w2index,n)\n",
    "    ngrams2 = lm.ngramGen(corpus_dev,w2index,n)\n",
    "    for dim in [50, 75, 100]:\n",
    "        for hdim in [40, 50, 60]:\n",
    "            neurallm = lm.neuralLM(dim, n, hdim, nwords)\n",
    "            temp_result = []\n",
    "\n",
    "            for it in range(iter_num): # passes through the training data\n",
    "                for ng in ngrams:\n",
    "                    pr = neurallm.update(ng,lrate)\n",
    "\n",
    "                #Dev set\n",
    "                LL, N = 0.0, 0 # Average log-likelihood, number of ngrams\n",
    "                for ng in ngrams2:\n",
    "                    if (count_train[ng[-1]]>0): # for now, skip target words not seen in training\n",
    "                        pr = neurallm.prob(ng)\n",
    "                        LL += np.log(pr)\n",
    "                        N  += 1\n",
    "                temp_result.append(LL/N)\n",
    "            print('n={0}, dim={1}, hdim={2}, dev llh={3}'.format(n, dim, hdim, np.mean(temp_result)))\n",
    "            neural_result2.append([n, dim, hdim, temp_result])"
   ]
  },
  {
   "cell_type": "code",
   "execution_count": 69,
   "metadata": {
    "collapsed": false
   },
   "outputs": [
    {
     "name": "stdout",
     "output_type": "stream",
     "text": [
      "n=3, dim=75, hdim=60, dev llh=-4.6397105792343725\n",
      "n=3, dim=75, hdim=70, dev llh=-4.632634290665759\n",
      "n=3, dim=75, hdim=80, dev llh=-4.6349324644524925\n"
     ]
    }
   ],
   "source": [
    "neural_result2 = []\n",
    "\n",
    "iter_num = 5\n",
    "lrate = 0.5  # Learning rate\n",
    "for n in [3]:\n",
    "    ngrams = lm.ngramGen(corpus_train,w2index,n)\n",
    "    ngrams2 = lm.ngramGen(corpus_dev,w2index,n)\n",
    "    for dim in [75]:\n",
    "        for hdim in [60,70,80]:\n",
    "            neurallm = lm.neuralLM(dim, n, hdim, nwords)\n",
    "            temp_result = []\n",
    "\n",
    "            for it in range(iter_num): # passes through the training data\n",
    "                for ng in ngrams:\n",
    "                    pr = neurallm.update(ng,lrate)\n",
    "\n",
    "                #Dev set\n",
    "                LL, N = 0.0, 0 # Average log-likelihood, number of ngrams\n",
    "                for ng in ngrams2:\n",
    "                    if (count_train[ng[-1]]>0): # for now, skip target words not seen in training\n",
    "                        pr = neurallm.prob(ng)\n",
    "                        LL += np.log(pr)\n",
    "                        N  += 1\n",
    "                temp_result.append(LL/N)\n",
    "            print('n={0}, dim={1}, hdim={2}, dev llh={3}'.format(n, dim, hdim, np.mean(temp_result)))\n",
    "            neural_result2.append([n, dim, hdim, temp_result])"
   ]
  },
  {
   "cell_type": "code",
   "execution_count": 70,
   "metadata": {
    "collapsed": false
   },
   "outputs": [
    {
     "name": "stdout",
     "output_type": "stream",
     "text": [
      "n=3, dim=75, hdim=70, dev llh=-4.6563715623237485\n"
     ]
    }
   ],
   "source": [
    "neural_result3 = []\n",
    "\n",
    "iter_num = 10\n",
    "lrate = 0.5  # Learning rate\n",
    "for n in [3]:\n",
    "    ngrams = lm.ngramGen(corpus_train,w2index,n)\n",
    "    ngrams2 = lm.ngramGen(corpus_dev,w2index,n)\n",
    "    ngrams_test = lm.ngramGen(corpus_test,w2index,n)\n",
    "    for dim in [75]:\n",
    "        for hdim in [70]:\n",
    "            neurallm = lm.neuralLM(dim, n, hdim, nwords)\n",
    "            temp_result = []\n",
    "\n",
    "            for it in range(iter_num): # passes through the training data\n",
    "                for ng in ngrams:\n",
    "                    pr = neurallm.update(ng,lrate)\n",
    "\n",
    "                #Dev set\n",
    "                LL, N = 0.0, 0 # Average log-likelihood, number of ngrams\n",
    "                for ng in ngrams_test:\n",
    "                    if (count_train[ng[-1]]>0): # for now, skip target words not seen in training\n",
    "                        pr = neurallm.prob(ng)\n",
    "                        LL += np.log(pr)\n",
    "                        N  += 1\n",
    "                temp_result.append(LL/N)\n",
    "            print('n={0}, dim={1}, hdim={2}, dev llh={3}'.format(n, dim, hdim, np.mean(temp_result)))\n",
    "            neural_result3.append([n, dim, hdim, temp_result])"
   ]
  },
  {
   "cell_type": "code",
   "execution_count": null,
   "metadata": {
    "collapsed": true
   },
   "outputs": [],
   "source": [
    "neural_result4 = []\n",
    "\n",
    "iter_num = 5\n",
    "lrate = 0.5  # Learning rate\n",
    "for n in [3]:\n",
    "    ngrams = lm.ngramGen(corpus_train,w2index,n)\n",
    "    ngrams2 = lm.ngramGen(corpus_dev,w2index,n)\n",
    "    ngrams_test = lm.ngramGen(corpus_test,w2index,n)\n",
    "    for dim in [10]:\n",
    "        for hdim in [10, 30, 50, 75, 100, 200]:\n",
    "            neurallm = lm.neuralLM(dim, n, hdim, nwords)\n",
    "            temp_result = []\n",
    "\n",
    "            for it in range(iter_num): # passes through the training data\n",
    "                for ng in ngrams:\n",
    "                    pr = neurallm.update(ng,lrate)\n",
    "\n",
    "                #Dev set\n",
    "                LL, N = 0.0, 0 # Average log-likelihood, number of ngrams\n",
    "                for ng in ngrams_test:\n",
    "                    if (count_train[ng[-1]]>0): # for now, skip target words not seen in training\n",
    "                        pr = neurallm.prob(ng)\n",
    "                        LL += np.log(pr)\n",
    "                        N  += 1\n",
    "                temp_result.append(LL/N)\n",
    "            print('n={0}, dim={1}, hdim={2}, dev llh={3}'.format(n, dim, hdim, np.mean(temp_result)))\n",
    "            neural_result4.append([n, dim, hdim, np.mean(temp_result), temp_result])"
   ]
  },
  {
   "cell_type": "code",
   "execution_count": null,
   "metadata": {
    "collapsed": true
   },
   "outputs": [],
   "source": []
  },
  {
   "cell_type": "code",
   "execution_count": null,
   "metadata": {
    "collapsed": true
   },
   "outputs": [],
   "source": []
  },
  {
   "cell_type": "code",
   "execution_count": null,
   "metadata": {
    "collapsed": true
   },
   "outputs": [],
   "source": []
  },
  {
   "cell_type": "code",
   "execution_count": 78,
   "metadata": {
    "collapsed": false
   },
   "outputs": [],
   "source": [
    "test_stn_1 = [[\"the\", \"choice\", \"of\", \"their\", \"class\", \"is\", \"good\"]]\n",
    "test_stn_2 = [[\"the\", \"choice\", \"of\", \"there\", \"class\", \"is\", \"good\"]]\n",
    "\n",
    "\n",
    "test_trigram_1 = lm.ngramGen(test_stn_1,w2index,3)\n",
    "test_trigram_2 = lm.ngramGen(test_stn_2,w2index,3)"
   ]
  },
  {
   "cell_type": "code",
   "execution_count": 74,
   "metadata": {
    "collapsed": false
   },
   "outputs": [
    {
     "data": {
      "text/plain": [
       "[[1418, 1417, 620],\n",
       " [1417, 620, 1092],\n",
       " [620, 1092, 912],\n",
       " [1092, 912, 1056],\n",
       " [912, 1056, 0],\n",
       " [1056, 0, 230],\n",
       " [0, 230, 598]]"
      ]
     },
     "execution_count": 74,
     "metadata": {},
     "output_type": "execute_result"
    }
   ],
   "source": [
    "test_trigram_1"
   ]
  },
  {
   "cell_type": "code",
   "execution_count": 79,
   "metadata": {
    "collapsed": false
   },
   "outputs": [
    {
     "name": "stdout",
     "output_type": "stream",
     "text": [
      "-5.26790220051\n"
     ]
    }
   ],
   "source": [
    "LL, N = 0.0, 0 # Average log-likelihood, number of ngrams\n",
    "for ng in test_trigram_1:\n",
    "    pr = neurallm.prob(ng)\n",
    "    LL += np.log(pr)\n",
    "    N  += 1\n",
    "print(LL/N)"
   ]
  },
  {
   "cell_type": "code",
   "execution_count": 80,
   "metadata": {
    "collapsed": false
   },
   "outputs": [
    {
     "name": "stdout",
     "output_type": "stream",
     "text": [
      "-6.05290330802\n"
     ]
    }
   ],
   "source": [
    "LL, N = 0.0, 0 # Average log-likelihood, number of ngrams\n",
    "for ng in test_trigram_2:\n",
    "    pr = neurallm.prob(ng)\n",
    "    LL += np.log(pr)\n",
    "    N  += 1\n",
    "print(LL/N)"
   ]
  },
  {
   "cell_type": "code",
   "execution_count": 55,
   "metadata": {
    "collapsed": false
   },
   "outputs": [
    {
     "name": "stdout",
     "output_type": "stream",
     "text": [
      "\n",
      "Network model training:\n",
      "Train:\t0\tLL = -5.183838706612703\n",
      "Dev:\t0\tLL = -4.83666408983967\n",
      "Train:\t1\tLL = -4.630877101085274\n",
      "Dev:\t1\tLL = -4.7168726314392515\n",
      "Train:\t2\tLL = -4.466241028270229\n",
      "Dev:\t2\tLL = -4.668948482547839\n",
      "Train:\t3\tLL = -4.367345741095842\n",
      "Dev:\t3\tLL = -4.644548897022256\n"
     ]
    },
    {
     "ename": "KeyboardInterrupt",
     "evalue": "",
     "output_type": "error",
     "traceback": [
      "\u001b[0;31m---------------------------------------------------------------------------\u001b[0m",
      "\u001b[0;31mKeyboardInterrupt\u001b[0m                         Traceback (most recent call last)",
      "\u001b[0;32m<ipython-input-55-1d06c403e836>\u001b[0m in \u001b[0;36m<module>\u001b[0;34m()\u001b[0m\n\u001b[1;32m     13\u001b[0m     \u001b[0mLL\u001b[0m\u001b[0;34m,\u001b[0m \u001b[0mN\u001b[0m  \u001b[0;34m=\u001b[0m \u001b[0;36m0.0\u001b[0m\u001b[0;34m,\u001b[0m \u001b[0;36m0\u001b[0m \u001b[0;31m# Average log-likelihood, number of ngrams\u001b[0m\u001b[0;34m\u001b[0m\u001b[0m\n\u001b[1;32m     14\u001b[0m     \u001b[0;32mfor\u001b[0m \u001b[0mng\u001b[0m \u001b[0;32min\u001b[0m \u001b[0mngrams\u001b[0m\u001b[0;34m:\u001b[0m\u001b[0;34m\u001b[0m\u001b[0m\n\u001b[0;32m---> 15\u001b[0;31m         \u001b[0mpr\u001b[0m \u001b[0;34m=\u001b[0m \u001b[0mneurallm\u001b[0m\u001b[0;34m.\u001b[0m\u001b[0mupdate\u001b[0m\u001b[0;34m(\u001b[0m\u001b[0mng\u001b[0m\u001b[0;34m,\u001b[0m\u001b[0mlrate\u001b[0m\u001b[0;34m)\u001b[0m\u001b[0;34m\u001b[0m\u001b[0m\n\u001b[0m\u001b[1;32m     16\u001b[0m         \u001b[0mLL\u001b[0m \u001b[0;34m+=\u001b[0m \u001b[0mnp\u001b[0m\u001b[0;34m.\u001b[0m\u001b[0mlog\u001b[0m\u001b[0;34m(\u001b[0m\u001b[0mpr\u001b[0m\u001b[0;34m)\u001b[0m\u001b[0;34m\u001b[0m\u001b[0m\n\u001b[1;32m     17\u001b[0m         \u001b[0mN\u001b[0m  \u001b[0;34m+=\u001b[0m \u001b[0;36m1\u001b[0m\u001b[0;34m\u001b[0m\u001b[0m\n",
      "\u001b[0;32m/Users/fqian/mit6.806/hw1/code/languagemodel.py\u001b[0m in \u001b[0;36mupdate\u001b[0;34m(self, ngram, lrate)\u001b[0m\n\u001b[1;32m    160\u001b[0m         \u001b[0mpr\u001b[0m       \u001b[0;34m=\u001b[0m \u001b[0mself\u001b[0m\u001b[0;34m.\u001b[0m\u001b[0moutputL\u001b[0m\u001b[0;34m.\u001b[0m\u001b[0mapply\u001b[0m\u001b[0;34m(\u001b[0m\u001b[0mfh\u001b[0m\u001b[0;34m)\u001b[0m\u001b[0;34m\u001b[0m\u001b[0m\n\u001b[1;32m    161\u001b[0m         \u001b[0;31m# Backpropagate (and update layers)\u001b[0m\u001b[0;34m\u001b[0m\u001b[0;34m\u001b[0m\u001b[0m\n\u001b[0;32m--> 162\u001b[0;31m         \u001b[0mdh\u001b[0m       \u001b[0;34m=\u001b[0m \u001b[0mself\u001b[0m\u001b[0;34m.\u001b[0m\u001b[0moutputL\u001b[0m\u001b[0;34m.\u001b[0m\u001b[0mbackprop\u001b[0m\u001b[0;34m(\u001b[0m\u001b[0mfh\u001b[0m\u001b[0;34m,\u001b[0m \u001b[0mlrate\u001b[0m\u001b[0;34m,\u001b[0m \u001b[0my\u001b[0m\u001b[0;34m)\u001b[0m\u001b[0;34m\u001b[0m\u001b[0m\n\u001b[0m\u001b[1;32m    163\u001b[0m         \u001b[0mdx\u001b[0m       \u001b[0;34m=\u001b[0m \u001b[0mself\u001b[0m\u001b[0;34m.\u001b[0m\u001b[0mhiddenL\u001b[0m\u001b[0;34m.\u001b[0m\u001b[0mbackprop\u001b[0m\u001b[0;34m(\u001b[0m\u001b[0mx\u001b[0m\u001b[0;34m,\u001b[0m \u001b[0mlrate\u001b[0m\u001b[0;34m,\u001b[0m \u001b[0mdh\u001b[0m\u001b[0;34m)\u001b[0m\u001b[0;34m\u001b[0m\u001b[0m\n\u001b[1;32m    164\u001b[0m         \u001b[0;31m# Update word vectors\u001b[0m\u001b[0;34m\u001b[0m\u001b[0;34m\u001b[0m\u001b[0m\n",
      "\u001b[0;32m/Users/fqian/mit6.806/hw1/code/languagemodel.py\u001b[0m in \u001b[0;36mbackprop\u001b[0;34m(self, x, lrate, y)\u001b[0m\n\u001b[1;32m    104\u001b[0m         \u001b[0mself\u001b[0m\u001b[0;34m.\u001b[0m\u001b[0mG2\u001b[0m   \u001b[0;34m+=\u001b[0m \u001b[0mxnorm2\u001b[0m \u001b[0;34m*\u001b[0m \u001b[0mgrad\u001b[0m \u001b[0;34m**\u001b[0m \u001b[0;36m2\u001b[0m\u001b[0;34m\u001b[0m\u001b[0m\n\u001b[1;32m    105\u001b[0m         \u001b[0mself\u001b[0m\u001b[0;34m.\u001b[0m\u001b[0mWo\u001b[0m   \u001b[0;34m+=\u001b[0m \u001b[0mlrate\u001b[0m \u001b[0;34m*\u001b[0m \u001b[0mgrad\u001b[0m \u001b[0;34m/\u001b[0m \u001b[0mnp\u001b[0m\u001b[0;34m.\u001b[0m\u001b[0msqrt\u001b[0m\u001b[0;34m(\u001b[0m\u001b[0mself\u001b[0m\u001b[0;34m.\u001b[0m\u001b[0mG2o\u001b[0m\u001b[0;34m)\u001b[0m\u001b[0;34m\u001b[0m\u001b[0m\n\u001b[0;32m--> 106\u001b[0;31m         \u001b[0mself\u001b[0m\u001b[0;34m.\u001b[0m\u001b[0mW\u001b[0m    \u001b[0;34m+=\u001b[0m \u001b[0mlrate\u001b[0m \u001b[0;34m*\u001b[0m \u001b[0mnp\u001b[0m\u001b[0;34m.\u001b[0m\u001b[0mouter\u001b[0m\u001b[0;34m(\u001b[0m\u001b[0mx\u001b[0m\u001b[0;34m,\u001b[0m \u001b[0mgrad\u001b[0m \u001b[0;34m/\u001b[0m \u001b[0mnp\u001b[0m\u001b[0;34m.\u001b[0m\u001b[0msqrt\u001b[0m\u001b[0;34m(\u001b[0m\u001b[0mself\u001b[0m\u001b[0;34m.\u001b[0m\u001b[0mG2\u001b[0m\u001b[0;34m)\u001b[0m\u001b[0;34m)\u001b[0m\u001b[0;34m\u001b[0m\u001b[0m\n\u001b[0m\u001b[1;32m    107\u001b[0m         \u001b[0;32mreturn\u001b[0m \u001b[0mxdelta\u001b[0m\u001b[0;34m\u001b[0m\u001b[0m\n\u001b[1;32m    108\u001b[0m \u001b[0;34m\u001b[0m\u001b[0m\n",
      "\u001b[0;32m//anaconda/lib/python3.5/site-packages/numpy/core/numeric.py\u001b[0m in \u001b[0;36mouter\u001b[0;34m(a, b, out)\u001b[0m\n\u001b[1;32m   1091\u001b[0m     \u001b[0ma\u001b[0m \u001b[0;34m=\u001b[0m \u001b[0masarray\u001b[0m\u001b[0;34m(\u001b[0m\u001b[0ma\u001b[0m\u001b[0;34m)\u001b[0m\u001b[0;34m\u001b[0m\u001b[0m\n\u001b[1;32m   1092\u001b[0m     \u001b[0mb\u001b[0m \u001b[0;34m=\u001b[0m \u001b[0masarray\u001b[0m\u001b[0;34m(\u001b[0m\u001b[0mb\u001b[0m\u001b[0;34m)\u001b[0m\u001b[0;34m\u001b[0m\u001b[0m\n\u001b[0;32m-> 1093\u001b[0;31m     \u001b[0;32mreturn\u001b[0m \u001b[0mmultiply\u001b[0m\u001b[0;34m(\u001b[0m\u001b[0ma\u001b[0m\u001b[0;34m.\u001b[0m\u001b[0mravel\u001b[0m\u001b[0;34m(\u001b[0m\u001b[0;34m)\u001b[0m\u001b[0;34m[\u001b[0m\u001b[0;34m:\u001b[0m\u001b[0;34m,\u001b[0m \u001b[0mnewaxis\u001b[0m\u001b[0;34m]\u001b[0m\u001b[0;34m,\u001b[0m \u001b[0mb\u001b[0m\u001b[0;34m.\u001b[0m\u001b[0mravel\u001b[0m\u001b[0;34m(\u001b[0m\u001b[0;34m)\u001b[0m\u001b[0;34m[\u001b[0m\u001b[0mnewaxis\u001b[0m\u001b[0;34m,\u001b[0m\u001b[0;34m:\u001b[0m\u001b[0;34m]\u001b[0m\u001b[0;34m,\u001b[0m \u001b[0mout\u001b[0m\u001b[0;34m)\u001b[0m\u001b[0;34m\u001b[0m\u001b[0m\n\u001b[0m\u001b[1;32m   1094\u001b[0m \u001b[0;34m\u001b[0m\u001b[0m\n\u001b[1;32m   1095\u001b[0m \u001b[0;34m\u001b[0m\u001b[0m\n",
      "\u001b[0;31mKeyboardInterrupt\u001b[0m: "
     ]
    }
   ],
   "source": [
    "# Network model\n",
    "print(\"\\nNetwork model training:\")\n",
    "n        = 3    # Length of n-gram \n",
    "dim      = 50   # Word vector dimension\n",
    "hdim     = 100  # Hidden units\n",
    "neurallm = lm.neuralLM(dim, n, hdim, nwords)  # The network model\n",
    "\n",
    "ngrams = lm.ngramGen(corpus_train,w2index,n)\n",
    "ngrams2 = lm.ngramGen(corpus_dev,w2index,n)\n",
    "\n",
    "lrate = 0.5  # Learning rate\n",
    "for it in range(5): # passes through the training data\n",
    "    LL, N  = 0.0, 0 # Average log-likelihood, number of ngrams    \n",
    "    for ng in ngrams:\n",
    "        pr = neurallm.update(ng,lrate)\n",
    "        LL += np.log(pr)\n",
    "        N  += 1\n",
    "    print('Train:\\t{0}\\tLL = {1}'.format(it, LL / N)) \n",
    "\n",
    "    #Dev set\n",
    "    LL, N = 0.0, 0 # Average log-likelihood, number of ngrams\n",
    "    for ng in ngrams2:\n",
    "        if (count_train[ng[-1]]>0): # for now, skip target words not seen in training\n",
    "            pr = neurallm.prob(ng)\n",
    "            LL += np.log(pr)\n",
    "            N  += 1\n",
    "    print('Dev:\\t{0}\\tLL = {1}'.format(it, LL / N)) \n"
   ]
  },
  {
   "cell_type": "code",
   "execution_count": null,
   "metadata": {
    "collapsed": true
   },
   "outputs": [],
   "source": []
  }
 ],
 "metadata": {
  "anaconda-cloud": {},
  "kernelspec": {
   "display_name": "python2",
   "language": "python",
   "name": "python2"
  },
  "language_info": {
   "codemirror_mode": {
    "name": "ipython",
    "version": 3
   },
   "file_extension": ".py",
   "mimetype": "text/x-python",
   "name": "python",
   "nbconvert_exporter": "python",
   "pygments_lexer": "ipython3",
   "version": "3.5.2"
  }
 },
 "nbformat": 4,
 "nbformat_minor": 0
}
